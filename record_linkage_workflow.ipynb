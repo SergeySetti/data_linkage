{
 "cells": [
  {
   "cell_type": "code",
   "execution_count": 4,
   "id": "3c096080cfaa734",
   "metadata": {
    "collapsed": false,
    "ExecuteTime": {
     "end_time": "2024-02-05T14:40:38.045305600Z",
     "start_time": "2024-02-05T14:40:38.029855100Z"
    }
   },
   "outputs": [],
   "source": [
    "import os\n",
    "import random\n",
    "\n",
    "from numpy.random import choice\n",
    "import faker\n",
    "import pandas as pd\n",
    "from tqdm.notebook import trange"
   ]
  },
  {
   "cell_type": "markdown",
   "source": [
    "The dataset is available in the [Google Drive](https://drive.google.com/file/d/1gviMipwq5MM_0O_gE02PsTq0-2tNGfbo/view?usp=sharing). Download it into the `data` folder."
   ],
   "metadata": {
    "collapsed": false
   },
   "id": "e1c79b2cf7bc3ee1"
  },
  {
   "cell_type": "code",
   "outputs": [
    {
     "data": {
      "text/plain": "  0%|          | 0/10000000 [00:00<?, ?it/s]",
      "application/vnd.jupyter.widget-view+json": {
       "version_major": 2,
       "version_minor": 0,
       "model_id": "e0abfcad35e34a90bb12d33cb8d3a9d4"
      }
     },
     "metadata": {},
     "output_type": "display_data"
    },
    {
     "name": "stdout",
     "output_type": "stream",
     "text": [
      "% of duplicate names: 9.56%\n",
      "% of duplicate emails: 7.51%\n"
     ]
    },
    {
     "data": {
      "text/plain": "                       name                           email  \\\n0             Larry Klein74           blake17@example.net37   \n1             James Cook153            asmith@example.com76   \n2          Jeffery Hudson37  thompsonjonathan@example.net18   \n3            Billy Moran263      kaylagarcia@example.net131   \n4            John Estrada18     vanessabuckley@example.com9   \n...                     ...                             ...   \n9999995   Jennifer Potter64          angela86@example.org32   \n9999996      Debra Nguyen48   johnsonjennifer@example.org24   \n9999997     Sylvia Moore217     owensvanessa@example.net108   \n9999998      Anthony Kent79        hunterlong@example.org39   \n9999999  Connie Trujillo248        juliaodom@example.net124   \n\n                                                   address  \n0                         PSC 0274, Box 6368\\nAPO AP 99086  \n1                 320 Kristin Parks\\nDeniseshire, PA 79279  \n2                         Unit 4883 Box 6026\\nDPO AE 00823  \n3                                USNS Dawson\\nFPO AP 47081  \n4                0173 Amanda Roads\\nDarlenehaven, NM 51077  \n...                                                    ...  \n9999995         1048 Barry Bypass\\nNorth Deborah, IN 29911  \n9999996            2075 Curry Wall\\nWest Katrina, NJ 28813  \n9999997  5556 Noah Shoals Suite 563\\nSylviaville, MD 06369  \n9999998            23124 Lisa Coves\\nNorth Tracy, GU 61652  \n9999999                   Unit 6531 Box 3658\\nDPO AA 68570  \n\n[10000000 rows x 3 columns]",
      "text/html": "<div>\n<style scoped>\n    .dataframe tbody tr th:only-of-type {\n        vertical-align: middle;\n    }\n\n    .dataframe tbody tr th {\n        vertical-align: top;\n    }\n\n    .dataframe thead th {\n        text-align: right;\n    }\n</style>\n<table border=\"1\" class=\"dataframe\">\n  <thead>\n    <tr style=\"text-align: right;\">\n      <th></th>\n      <th>name</th>\n      <th>email</th>\n      <th>address</th>\n    </tr>\n  </thead>\n  <tbody>\n    <tr>\n      <th>0</th>\n      <td>Larry Klein74</td>\n      <td>blake17@example.net37</td>\n      <td>PSC 0274, Box 6368\\nAPO AP 99086</td>\n    </tr>\n    <tr>\n      <th>1</th>\n      <td>James Cook153</td>\n      <td>asmith@example.com76</td>\n      <td>320 Kristin Parks\\nDeniseshire, PA 79279</td>\n    </tr>\n    <tr>\n      <th>2</th>\n      <td>Jeffery Hudson37</td>\n      <td>thompsonjonathan@example.net18</td>\n      <td>Unit 4883 Box 6026\\nDPO AE 00823</td>\n    </tr>\n    <tr>\n      <th>3</th>\n      <td>Billy Moran263</td>\n      <td>kaylagarcia@example.net131</td>\n      <td>USNS Dawson\\nFPO AP 47081</td>\n    </tr>\n    <tr>\n      <th>4</th>\n      <td>John Estrada18</td>\n      <td>vanessabuckley@example.com9</td>\n      <td>0173 Amanda Roads\\nDarlenehaven, NM 51077</td>\n    </tr>\n    <tr>\n      <th>...</th>\n      <td>...</td>\n      <td>...</td>\n      <td>...</td>\n    </tr>\n    <tr>\n      <th>9999995</th>\n      <td>Jennifer Potter64</td>\n      <td>angela86@example.org32</td>\n      <td>1048 Barry Bypass\\nNorth Deborah, IN 29911</td>\n    </tr>\n    <tr>\n      <th>9999996</th>\n      <td>Debra Nguyen48</td>\n      <td>johnsonjennifer@example.org24</td>\n      <td>2075 Curry Wall\\nWest Katrina, NJ 28813</td>\n    </tr>\n    <tr>\n      <th>9999997</th>\n      <td>Sylvia Moore217</td>\n      <td>owensvanessa@example.net108</td>\n      <td>5556 Noah Shoals Suite 563\\nSylviaville, MD 06369</td>\n    </tr>\n    <tr>\n      <th>9999998</th>\n      <td>Anthony Kent79</td>\n      <td>hunterlong@example.org39</td>\n      <td>23124 Lisa Coves\\nNorth Tracy, GU 61652</td>\n    </tr>\n    <tr>\n      <th>9999999</th>\n      <td>Connie Trujillo248</td>\n      <td>juliaodom@example.net124</td>\n      <td>Unit 6531 Box 3658\\nDPO AA 68570</td>\n    </tr>\n  </tbody>\n</table>\n<p>10000000 rows × 3 columns</p>\n</div>"
     },
     "execution_count": 27,
     "metadata": {},
     "output_type": "execute_result"
    }
   ],
   "source": [
    "n = 10_000_000\n",
    "noize = 0.003\n",
    "nf = round(1 / noize)\n",
    "\n",
    "dr = f'data'\n",
    "f = f'fake_data_people_{n}_{noize}.parquet'\n",
    "\n",
    "filename = os.path.join(dr, f)\n",
    "if f not in os.listdir(dr):\n",
    "    fake = faker.Faker(seed=0)\n",
    "    data = []\n",
    "    for i in trange(n):\n",
    "        # Faker produce a lot of duplicates, so we need to add some noise\n",
    "        rnd_int = random.randint(1, nf)\n",
    "        rnd_int_str = str(rnd_int)\n",
    "        rnd_int_for_email = str(rnd_int // 2)\n",
    "        data.append({\n",
    "            'name': fake.name() + rnd_int_str,\n",
    "            'email': fake.email() + rnd_int_for_email,\n",
    "            'address': fake.address()\n",
    "        })\n",
    "    df = pd.DataFrame(data)\n",
    "    df.to_parquet(filename, index=False)\n",
    "\n",
    "df = pd.read_parquet(filename)\n",
    "print(f\"% of duplicate names: {df['name'].value_counts().loc[lambda x: x > 1].shape[0] / df.shape[0] * 100:.2f}%\")\n",
    "print(f\"% of duplicate emails: {df['email'].value_counts().loc[lambda x: x > 1].shape[0] / df.shape[0] * 100:.2f}%\")\n",
    "df"
   ],
   "metadata": {
    "collapsed": false,
    "ExecuteTime": {
     "end_time": "2024-02-05T15:49:14.939825Z",
     "start_time": "2024-02-05T15:07:34.809260100Z"
    }
   },
   "id": "d5bc023786c93fda",
   "execution_count": 27
  },
  {
   "cell_type": "code",
   "outputs": [
    {
     "name": "stdout",
     "output_type": "stream",
     "text": [
      "Total duplicated names: 956,063\n"
     ]
    }
   ],
   "source": [
    "print(f\"Total duplicated names: {df['name'].value_counts().loc[lambda x: x > 1].shape[0]:,}\")"
   ],
   "metadata": {
    "collapsed": false,
    "ExecuteTime": {
     "end_time": "2024-02-05T16:03:03.826922900Z",
     "start_time": "2024-02-05T16:02:56.998702100Z"
    }
   },
   "id": "d1cd534fc2c82161",
   "execution_count": 28
  },
  {
   "cell_type": "code",
   "outputs": [
    {
     "name": "stdout",
     "output_type": "stream",
     "text": [
      "Total duplicated emails: 750,725\n"
     ]
    }
   ],
   "source": [
    "print(f\"Total duplicated emails: {df['email'].value_counts().loc[lambda x: x > 1].shape[0]:,}\")"
   ],
   "metadata": {
    "collapsed": false,
    "ExecuteTime": {
     "end_time": "2024-02-05T16:03:10.569811100Z",
     "start_time": "2024-02-05T16:03:03.826922900Z"
    }
   },
   "id": "f8a3d3e532ea1f2b",
   "execution_count": 29
  },
  {
   "cell_type": "code",
   "outputs": [
    {
     "data": {
      "text/plain": "Index(['osmith@example.net166', 'zsmith@example.org97',\n       'nsmith@example.com103', 'nsmith@example.org144',\n       'esmith@example.com24', 'zsmith@example.org3', 'qsmith@example.org21',\n       'fsmith@example.com31', 'fsmith@example.com52', 'esmith@example.net33',\n       ...\n       'jaredbrown@example.org88', 'bhuff@example.org99',\n       'eric46@example.org40', 'matthew50@example.com161',\n       'ymiller@example.net55', 'johnharris@example.org46',\n       'crystal02@example.org51', 'christopher85@example.org156',\n       'deborah91@example.com13', 'imartin@example.org144'],\n      dtype='object', name='email', length=750725)"
     },
     "execution_count": 30,
     "metadata": {},
     "output_type": "execute_result"
    }
   ],
   "source": [
    "non_unic_emails = df['email'].value_counts().loc[lambda x: x > 1].index\n",
    "non_unic_emails"
   ],
   "metadata": {
    "collapsed": false,
    "ExecuteTime": {
     "end_time": "2024-02-05T16:03:17.439742100Z",
     "start_time": "2024-02-05T16:03:10.569811100Z"
    }
   },
   "id": "1e8f2f5786ff7cf5",
   "execution_count": 30
  },
  {
   "cell_type": "code",
   "outputs": [
    {
     "name": "stdout",
     "output_type": "stream",
     "text": [
      "Time to compute candidate pairs: 0 days 00:00:17.612178\n",
      "Number of candidate pairs: 3,651,777\n"
     ]
    }
   ],
   "source": [
    "import recordlinkage\n",
    "\n",
    "# In case we want to estimate the time to compute by chunks\n",
    "# sample_df = df.sample(frac=0.1)\n",
    "\n",
    "sample_df = df\n",
    "\n",
    "time_start = pd.Timestamp.now()\n",
    "rules = [\n",
    "    {\"field\": \"name\", \"type\": \"Exact\", \"weight\": 50},\n",
    "    {\"field\": \"email\", \"type\": \"Exact\", \"weight\": 20},\n",
    "    {\"field\": \"address\", \"type\": \"Fuzzy\", \"weight\": 30}\n",
    "]\n",
    "\n",
    "comp = recordlinkage.Compare()\n",
    "\n",
    "comp.exact('name', 'name', agree_value=50)\n",
    "comp.exact('email', 'email', agree_value=20)\n",
    "comp.string('address', 'address', method='levenshtein', threshold=0.85)\n",
    "\n",
    "indexer = recordlinkage.Index()\n",
    "indexer.block(left_on='name', right_on='name')\n",
    "indexer.block(left_on='email', right_on='email')\n",
    "candidate_pairs = indexer.index(sample_df)\n",
    "time_end = pd.Timestamp.now()\n",
    "print(f\"Time to compute candidate pairs: {time_end - time_start}\")\n",
    "print(f\"Number of candidate pairs: {candidate_pairs.shape[0]:,}\")"
   ],
   "metadata": {
    "collapsed": false,
    "ExecuteTime": {
     "end_time": "2024-02-05T16:04:27.262528900Z",
     "start_time": "2024-02-05T16:04:09.455933900Z"
    }
   },
   "id": "6e9f4b796a9a4c5f",
   "execution_count": 35
  },
  {
   "cell_type": "code",
   "outputs": [
    {
     "name": "stdout",
     "output_type": "stream",
     "text": [
      "Time to compute scores: 0 days 00:00:55.267969\n",
      "Number of computed pairs: 3,651,777\n"
     ]
    }
   ],
   "source": [
    "time_start = pd.Timestamp.now()\n",
    "computed = comp.compute(candidate_pairs, df)\n",
    "computed.columns = ['name_score', 'email_score', 'address_score']\n",
    "computed['address_score_converted'] = computed['address_score'] * rules[2]['weight']\n",
    "computed['score'] = computed[['name_score', 'email_score', 'address_score_converted']].sum(axis=1)\n",
    "computed = computed.sort_values(by='score', ascending=False)\n",
    "computed = computed.reset_index()\n",
    "time_end = pd.Timestamp.now()\n",
    "print(f\"Time to compute scores: {time_end - time_start}\")\n",
    "print(f\"Number of computed pairs: {computed.shape[0]:,}\")"
   ],
   "metadata": {
    "collapsed": false,
    "ExecuteTime": {
     "end_time": "2024-02-05T16:05:26.010069200Z",
     "start_time": "2024-02-05T16:04:30.731103500Z"
    }
   },
   "id": "98043a3bdb162c5e",
   "execution_count": 36
  },
  {
   "cell_type": "markdown",
   "source": [
    "Prepare the final report"
   ],
   "metadata": {
    "collapsed": false
   },
   "id": "4f85510bc4f9f58a"
  },
  {
   "cell_type": "code",
   "outputs": [
    {
     "data": {
      "text/plain": "         Cluster Id  Cluster size  Score\n0              3870             1   50.0\n1              4089             1   50.0\n2              4243             1   20.0\n3              4615             1   50.0\n4              4862             1   50.0\n...             ...           ...    ...\n2385033     9999987             3   50.0\n2385034     9999990             1   20.0\n2385035     9999992             2   20.0\n2385036     9999992             1   50.0\n2385037     9999996             1   20.0\n\n[2385038 rows x 3 columns]",
      "text/html": "<div>\n<style scoped>\n    .dataframe tbody tr th:only-of-type {\n        vertical-align: middle;\n    }\n\n    .dataframe tbody tr th {\n        vertical-align: top;\n    }\n\n    .dataframe thead th {\n        text-align: right;\n    }\n</style>\n<table border=\"1\" class=\"dataframe\">\n  <thead>\n    <tr style=\"text-align: right;\">\n      <th></th>\n      <th>Cluster Id</th>\n      <th>Cluster size</th>\n      <th>Score</th>\n    </tr>\n  </thead>\n  <tbody>\n    <tr>\n      <th>0</th>\n      <td>3870</td>\n      <td>1</td>\n      <td>50.0</td>\n    </tr>\n    <tr>\n      <th>1</th>\n      <td>4089</td>\n      <td>1</td>\n      <td>50.0</td>\n    </tr>\n    <tr>\n      <th>2</th>\n      <td>4243</td>\n      <td>1</td>\n      <td>20.0</td>\n    </tr>\n    <tr>\n      <th>3</th>\n      <td>4615</td>\n      <td>1</td>\n      <td>50.0</td>\n    </tr>\n    <tr>\n      <th>4</th>\n      <td>4862</td>\n      <td>1</td>\n      <td>50.0</td>\n    </tr>\n    <tr>\n      <th>...</th>\n      <td>...</td>\n      <td>...</td>\n      <td>...</td>\n    </tr>\n    <tr>\n      <th>2385033</th>\n      <td>9999987</td>\n      <td>3</td>\n      <td>50.0</td>\n    </tr>\n    <tr>\n      <th>2385034</th>\n      <td>9999990</td>\n      <td>1</td>\n      <td>20.0</td>\n    </tr>\n    <tr>\n      <th>2385035</th>\n      <td>9999992</td>\n      <td>2</td>\n      <td>20.0</td>\n    </tr>\n    <tr>\n      <th>2385036</th>\n      <td>9999992</td>\n      <td>1</td>\n      <td>50.0</td>\n    </tr>\n    <tr>\n      <th>2385037</th>\n      <td>9999996</td>\n      <td>1</td>\n      <td>20.0</td>\n    </tr>\n  </tbody>\n</table>\n<p>2385038 rows × 3 columns</p>\n</div>"
     },
     "execution_count": 37,
     "metadata": {},
     "output_type": "execute_result"
    }
   ],
   "source": [
    "computed_grouped = (computed.groupby(['level_0', 'score'])\n",
    "                    .agg(cluster_size = ('level_1', 'count'))\n",
    "                    .reset_index())\n",
    "computed_grouped.columns = ['Cluster Id', 'Score', 'Cluster size']\n",
    "computed_grouped = computed_grouped[['Cluster Id', 'Cluster size', 'Score']]\n",
    "computed_grouped"
   ],
   "metadata": {
    "collapsed": false,
    "ExecuteTime": {
     "end_time": "2024-02-05T16:05:30.128009100Z",
     "start_time": "2024-02-05T16:05:29.168384500Z"
    }
   },
   "id": "2c79da0871885ad8",
   "execution_count": 37
  },
  {
   "cell_type": "markdown",
   "source": [
    "### What to do next? \n",
    "\n",
    "There are several strategies to consider. \n",
    "\n",
    "Strategy 1: For the cases when there is much more the 5-10% of duplicated names, or other exact columns, we can consider to prefilter the daraset to remove the duplicated records before the linkage process.\n",
    "\n",
    "Strategy 2: Split dataset into **sorted** blocks and compare records only within the same block. This will reduce the number of comparisons and speed up the process. This strategy also adds the possibility to scale the process.\n",
    "\n",
    "<br>\n",
    "\n",
    "### Extreme cases\n",
    "\n",
    "For the cases with huge datasets, we can consider to use approximate algorithms. These algorithms are able to find the similar records with high probability, but they are not able to find the exact matches. But this is the topic for another discussion."
   ],
   "metadata": {
    "collapsed": false
   },
   "id": "aad7f2dce4190cda"
  }
 ],
 "metadata": {
  "kernelspec": {
   "name": "fuzzo",
   "language": "python",
   "display_name": "fuzzo"
  },
  "language_info": {
   "codemirror_mode": {
    "name": "ipython",
    "version": 2
   },
   "file_extension": ".py",
   "mimetype": "text/x-python",
   "name": "python",
   "nbconvert_exporter": "python",
   "pygments_lexer": "ipython2",
   "version": "2.7.6"
  }
 },
 "nbformat": 4,
 "nbformat_minor": 5
}
